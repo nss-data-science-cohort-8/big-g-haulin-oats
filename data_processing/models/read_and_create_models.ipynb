{
 "cells": [
  {
   "cell_type": "code",
   "execution_count": null,
   "id": "beac3cbc",
   "metadata": {},
   "outputs": [],
   "source": [
    "# Import statements\n",
    "import pandas as pd\n",
    "import numpy as np\n",
    "import mlflow\n",
    "from sklearn.linear_model import LogisticRegression\n",
    "from sklearn.metrics import precision_score"
   ]
  },
  {
   "cell_type": "code",
   "execution_count": 17,
   "id": "45510ab1",
   "metadata": {},
   "outputs": [
    {
     "name": "stderr",
     "output_type": "stream",
     "text": [
      "2025/04/28 20:43:24 INFO mlflow.tracking.fluent: Autologging successfully enabled for sklearn.\n",
      "c:\\Users\\irela\\anaconda3\\Lib\\site-packages\\sklearn\\metrics\\_classification.py:1565: UndefinedMetricWarning: Precision is ill-defined and being set to 0.0 in labels with no predicted samples. Use `zero_division` parameter to control this behavior.\n",
      "  _warn_prf(average, modifier, f\"{metric.capitalize()} is\", len(result))\n"
     ]
    },
    {
     "name": "stdout",
     "output_type": "stream",
     "text": [
      "Simple model precision score: 0.0\n"
     ]
    },
    {
     "name": "stderr",
     "output_type": "stream",
     "text": [
      "c:\\Users\\irela\\anaconda3\\Lib\\site-packages\\sklearn\\metrics\\_classification.py:1565: UndefinedMetricWarning: Precision is ill-defined and being set to 0.0 due to no predicted samples. Use `zero_division` parameter to control this behavior.\n",
      "  _warn_prf(average, modifier, f\"{metric.capitalize()} is\", len(result))\n"
     ]
    }
   ],
   "source": [
    "# File name for the dataset\n",
    "file_name = \"engine_oil_pressure_only\"\n",
    "\n",
    "mlflow.autolog()\n",
    "\n",
    "with mlflow.start_run():\n",
    "    train_data_file_path = f\"../preprocessed_data/{file_name}_train.csv\"\n",
    "    test_data_file_path = f\"../preprocessed_data/{file_name}_test.csv\"\n",
    "\n",
    "    train_df = pd.read_csv(train_data_file_path)\n",
    "    test_df = pd.read_csv(test_data_file_path)\n",
    "\n",
    "    train_df = train_df.dropna(subset=[\"EngineOilPressure\"])\n",
    "    test_df = test_df.dropna(subset=[\"EngineOilPressure\"])\n",
    "\n",
    "    y_train = train_df.iloc[:, 0]\n",
    "    X_train = train_df.iloc[:, 1:]\n",
    "    y_test = test_df.iloc[:, 0]\n",
    "    X_test = test_df.iloc[:, 1:]\n",
    "\n",
    "    simple_model = LogisticRegression(max_iter=1000, random_state=42)\n",
    "    simple_model.fit(X_train, y_train)\n",
    "    y_pred = simple_model.predict(X_test)\n",
    "    simple_model_score = precision_score(y_test, y_pred)\n",
    "\n",
    "    print(f\"Simple model precision score: {simple_model_score}\")"
   ]
  },
  {
   "cell_type": "code",
   "execution_count": 16,
   "id": "a1db3162",
   "metadata": {},
   "outputs": [
    {
     "name": "stdout",
     "output_type": "stream",
     "text": [
      "[0.00715486 0.00715486 0.00715486 0.00715486 0.00219182 0.00072294\n",
      " 0.00054126 0.00054126 0.00202427 0.00202427]\n"
     ]
    }
   ],
   "source": [
    "y_pred_proba = simple_model.predict_proba(X_test)\n",
    "y_pred_proba = y_pred_proba[:, 1]  # Get probabilities for the positive class\n",
    "print(y_pred_proba[:10])"
   ]
  }
 ],
 "metadata": {
  "kernelspec": {
   "display_name": "base",
   "language": "python",
   "name": "python3"
  },
  "language_info": {
   "codemirror_mode": {
    "name": "ipython",
    "version": 3
   },
   "file_extension": ".py",
   "mimetype": "text/x-python",
   "name": "python",
   "nbconvert_exporter": "python",
   "pygments_lexer": "ipython3",
   "version": "3.12.4"
  }
 },
 "nbformat": 4,
 "nbformat_minor": 5
}
