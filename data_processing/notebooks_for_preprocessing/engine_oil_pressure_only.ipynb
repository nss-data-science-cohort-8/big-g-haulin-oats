{
 "cells": [
  {
   "cell_type": "code",
   "execution_count": 5,
   "id": "edb0885d",
   "metadata": {},
   "outputs": [
    {
     "name": "stderr",
     "output_type": "stream",
     "text": [
      "c:\\Users\\irela\\Documents\\NSS_Projects\\big-g-haulin-oats\\data_processing\\notebooks_for_preprocessing\\data_preprocessing.py:6: DtypeWarning: Columns (15) have mixed types. Specify dtype option on import or set low_memory=False.\n",
      "  faults = pd.read_csv(\"../data/J1939Faults.csv\")\n",
      "c:\\Users\\irela\\Documents\\NSS_Projects\\big-g-haulin-oats\\data_processing\\notebooks_for_preprocessing\\data_preprocessing.py:21: FutureWarning: SeriesGroupBy.fillna is deprecated and will be removed in a future version. Use obj.ffill() or obj.bfill() for forward or backward filling instead. If you want to fill with a single value, use Series.fillna instead\n",
      "  faults_and_diagnostics['NextDerateTime'] = faults_and_diagnostics.groupby('EquipmentID')['NextDerateTime'].fillna(method='bfill')\n",
      "c:\\Users\\irela\\Documents\\NSS_Projects\\big-g-haulin-oats\\data_processing\\notebooks_for_preprocessing\\data_preprocessing.py:21: FutureWarning: Series.fillna with 'method' is deprecated and will raise in a future version. Use obj.ffill() or obj.bfill() instead.\n",
      "  faults_and_diagnostics['NextDerateTime'] = faults_and_diagnostics.groupby('EquipmentID')['NextDerateTime'].fillna(method='bfill')\n",
      "c:\\Users\\irela\\anaconda3\\Lib\\site-packages\\pandas\\core\\dtypes\\astype.py:133: RuntimeWarning: overflow encountered in cast\n",
      "  return arr.astype(dtype, copy=True)\n",
      "c:\\Users\\irela\\anaconda3\\Lib\\site-packages\\pandas\\core\\dtypes\\astype.py:133: RuntimeWarning: overflow encountered in cast\n",
      "  return arr.astype(dtype, copy=True)\n"
     ]
    }
   ],
   "source": [
    "#import statements\n",
    "import pandas as pd\n",
    "import data_preprocessing as prep\n",
    "import ipynbname"
   ]
  },
  {
   "cell_type": "code",
   "execution_count": 6,
   "id": "dbd5845e",
   "metadata": {},
   "outputs": [
    {
     "name": "stdout",
     "output_type": "stream",
     "text": [
      "<class 'pandas.core.frame.DataFrame'>\n",
      "Index: 1058069 entries, 33355 to 4999\n",
      "Data columns (total 48 columns):\n",
      " #   Column                     Non-Null Count    Dtype         \n",
      "---  ------                     --------------    -----         \n",
      " 0   RecordID                   1058069 non-null  int64         \n",
      " 1   ESS_Id                     1058069 non-null  int64         \n",
      " 2   EventTimeStamp             1058069 non-null  datetime64[ns]\n",
      " 3   eventDescription           1058069 non-null  object        \n",
      " 4   actionDescription          0 non-null        float64       \n",
      " 5   ecuSoftwareVersion         831493 non-null   object        \n",
      " 6   ecuSerialNumber            787468 non-null   object        \n",
      " 7   ecuModel                   1002466 non-null  object        \n",
      " 8   ecuMake                    1002466 non-null  object        \n",
      " 9   ecuSource                  1058069 non-null  int64         \n",
      " 10  spn                        1058069 non-null  int64         \n",
      " 11  fmi                        1058069 non-null  int64         \n",
      " 12  active                     1058069 non-null  bool          \n",
      " 13  activeTransitionCount      1058069 non-null  int64         \n",
      " 14  faultValue                 0 non-null        float64       \n",
      " 15  EquipmentID                1058069 non-null  object        \n",
      " 16  MCTNumber                  1058069 non-null  int64         \n",
      " 17  Latitude                   1058069 non-null  float64       \n",
      " 18  Longitude                  1058069 non-null  float64       \n",
      " 19  LocationTimeStamp          1058069 non-null  object        \n",
      " 20  AcceleratorPedal           467909 non-null   float16       \n",
      " 21  BarometricPressure         521508 non-null   float16       \n",
      " 22  CruiseControlActive        1058069 non-null  bool          \n",
      " 23  CruiseControlSetSpeed      511788 non-null   float16       \n",
      " 24  DistanceLtd                521453 non-null   float16       \n",
      " 25  EngineCoolantTemperature   521574 non-null   float16       \n",
      " 26  EngineLoad                 521085 non-null   float16       \n",
      " 27  EngineOilPressure          521709 non-null   float16       \n",
      " 28  EngineOilTemperature       519668 non-null   float16       \n",
      " 29  EngineRpm                  522179 non-null   float16       \n",
      " 30  EngineTimeLtd              516855 non-null   float16       \n",
      " 31  FuelLevel                  439887 non-null   float16       \n",
      " 32  FuelLtd                    520532 non-null   float32       \n",
      " 33  FuelRate                   520771 non-null   float16       \n",
      " 34  FuelTemperature            272907 non-null   float16       \n",
      " 35  IgnStatus                  1058069 non-null  bool          \n",
      " 36  IntakeManifoldTemperature  521729 non-null   float16       \n",
      " 37  LampStatus                 1058069 non-null  object        \n",
      " 38  ParkingBrake               1058069 non-null  bool          \n",
      " 39  ServiceDistance            215 non-null      object        \n",
      " 40  Speed                      519609 non-null   float16       \n",
      " 41  SwitchedBatteryVoltage     109174 non-null   float16       \n",
      " 42  Throttle                   356388 non-null   float16       \n",
      " 43  TurboBoostPressure         519069 non-null   float16       \n",
      " 44  FullDerate                 1058069 non-null  int64         \n",
      " 45  NextDerateTime             253143 non-null   datetime64[ns]\n",
      " 46  HoursUntilNextDerate       253143 non-null   float64       \n",
      " 47  DerateInNextTwoHours       1058069 non-null  int32         \n",
      "dtypes: bool(4), datetime64[ns](2), float16(18), float32(1), float64(5), int32(1), int64(8), object(9)\n",
      "memory usage: 250.2+ MB\n"
     ]
    }
   ],
   "source": [
    "prep.faults_and_diagnostics_train.info()"
   ]
  },
  {
   "cell_type": "code",
   "execution_count": null,
   "id": "c0a12cc5",
   "metadata": {},
   "outputs": [],
   "source": [
    "feature_cols = ['EngineOilPressure', 'Throttle', 'FuelTemperature', 'FuelLtd', 'EngineTimeLtd']\n",
    "target_col = 'DerateInNextTwoHours'\n",
    "file_name = 'random_assortment_of_features' # Don't add .csv here, it will be added in the function\n",
    "\n",
    "train_df, test_df = prep.xy_train_test_split(feature_cols, target_col)\n",
    "prep.save_to_csv(train_df, test_df, file_name)"
   ]
  },
  {
   "cell_type": "code",
   "execution_count": 11,
   "id": "66ffea80",
   "metadata": {},
   "outputs": [],
   "source": [
    "notebook_name = 'engine_oil_pressure_only'\n",
    "# save the train and test dataframes to CSV files\n",
    "train_df.to_csv(f'../preprocessed_data/{notebook_name}_train.csv', index=False)\n",
    "test_df.to_csv(f'../preprocessed_data/{notebook_name}_test.csv', index=False)"
   ]
  },
  {
   "cell_type": "code",
   "execution_count": 12,
   "id": "e200bfc4",
   "metadata": {},
   "outputs": [
    {
     "data": {
      "application/vnd.microsoft.datawrangler.viewer.v0+json": {
       "columns": [
        {
         "name": "index",
         "rawType": "int64",
         "type": "integer"
        },
        {
         "name": "target",
         "rawType": "int32",
         "type": "integer"
        },
        {
         "name": "EngineOilPressure",
         "rawType": "float16",
         "type": "float"
        }
       ],
       "conversionMethod": "pd.DataFrame",
       "ref": "ade8154e-57d2-40ce-bd51-0a3dfb279460",
       "rows": [
        [
         "33355",
         "0",
         null
        ],
        [
         "35080",
         "0",
         null
        ],
        [
         "47186",
         "0",
         "34.22"
        ],
        [
         "47213",
         "0",
         null
        ],
        [
         "48303",
         "0",
         "55.1"
        ]
       ],
       "shape": {
        "columns": 2,
        "rows": 5
       }
      },
      "text/html": [
       "<div>\n",
       "<style scoped>\n",
       "    .dataframe tbody tr th:only-of-type {\n",
       "        vertical-align: middle;\n",
       "    }\n",
       "\n",
       "    .dataframe tbody tr th {\n",
       "        vertical-align: top;\n",
       "    }\n",
       "\n",
       "    .dataframe thead th {\n",
       "        text-align: right;\n",
       "    }\n",
       "</style>\n",
       "<table border=\"1\" class=\"dataframe\">\n",
       "  <thead>\n",
       "    <tr style=\"text-align: right;\">\n",
       "      <th></th>\n",
       "      <th>target</th>\n",
       "      <th>EngineOilPressure</th>\n",
       "    </tr>\n",
       "  </thead>\n",
       "  <tbody>\n",
       "    <tr>\n",
       "      <th>33355</th>\n",
       "      <td>0</td>\n",
       "      <td>NaN</td>\n",
       "    </tr>\n",
       "    <tr>\n",
       "      <th>35080</th>\n",
       "      <td>0</td>\n",
       "      <td>NaN</td>\n",
       "    </tr>\n",
       "    <tr>\n",
       "      <th>47186</th>\n",
       "      <td>0</td>\n",
       "      <td>34.21875</td>\n",
       "    </tr>\n",
       "    <tr>\n",
       "      <th>47213</th>\n",
       "      <td>0</td>\n",
       "      <td>NaN</td>\n",
       "    </tr>\n",
       "    <tr>\n",
       "      <th>48303</th>\n",
       "      <td>0</td>\n",
       "      <td>55.09375</td>\n",
       "    </tr>\n",
       "  </tbody>\n",
       "</table>\n",
       "</div>"
      ],
      "text/plain": [
       "       target  EngineOilPressure\n",
       "33355       0                NaN\n",
       "35080       0                NaN\n",
       "47186       0           34.21875\n",
       "47213       0                NaN\n",
       "48303       0           55.09375"
      ]
     },
     "execution_count": 12,
     "metadata": {},
     "output_type": "execute_result"
    }
   ],
   "source": [
    "train_df.head()"
   ]
  }
 ],
 "metadata": {
  "kernelspec": {
   "display_name": "base",
   "language": "python",
   "name": "python3"
  },
  "language_info": {
   "codemirror_mode": {
    "name": "ipython",
    "version": 3
   },
   "file_extension": ".py",
   "mimetype": "text/x-python",
   "name": "python",
   "nbconvert_exporter": "python",
   "pygments_lexer": "ipython3",
   "version": "3.12.4"
  }
 },
 "nbformat": 4,
 "nbformat_minor": 5
}
