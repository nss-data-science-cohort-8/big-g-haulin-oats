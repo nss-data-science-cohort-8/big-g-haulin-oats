{
 "cells": [
  {
   "cell_type": "code",
   "execution_count": 1,
   "id": "edb0885d",
   "metadata": {},
   "outputs": [
    {
     "name": "stderr",
     "output_type": "stream",
     "text": [
      "c:\\Users\\irela\\Documents\\NSS_Projects\\big-g-haulin-oats\\data_processing\\notebooks_for_preprocessing\\data_preprocessing.py:6: DtypeWarning: Columns (15) have mixed types. Specify dtype option on import or set low_memory=False.\n",
      "  faults = pd.read_csv(\"../../data/J1939Faults.csv\")\n",
      "c:\\Users\\irela\\Documents\\NSS_Projects\\big-g-haulin-oats\\data_processing\\notebooks_for_preprocessing\\data_preprocessing.py:23: SettingWithCopyWarning: \n",
      "A value is trying to be set on a copy of a slice from a DataFrame.\n",
      "Try using .loc[row_indexer,col_indexer] = value instead\n",
      "\n",
      "See the caveats in the documentation: https://pandas.pydata.org/pandas-docs/stable/user_guide/indexing.html#returning-a-view-versus-a-copy\n",
      "  df['DistanceTo' + loc] = np.sqrt((df['Latitude'] - coords[0])**2 + (df['Longitude'] - coords[1])**2)\n",
      "c:\\Users\\irela\\Documents\\NSS_Projects\\big-g-haulin-oats\\data_processing\\notebooks_for_preprocessing\\data_preprocessing.py:23: SettingWithCopyWarning: \n",
      "A value is trying to be set on a copy of a slice from a DataFrame.\n",
      "Try using .loc[row_indexer,col_indexer] = value instead\n",
      "\n",
      "See the caveats in the documentation: https://pandas.pydata.org/pandas-docs/stable/user_guide/indexing.html#returning-a-view-versus-a-copy\n",
      "  df['DistanceTo' + loc] = np.sqrt((df['Latitude'] - coords[0])**2 + (df['Longitude'] - coords[1])**2)\n"
     ]
    }
   ],
   "source": [
    "# import statements\n",
    "import pandas as pd\n",
    "import data_preprocessing as prep\n",
    "import ipynbname"
   ]
  },
  {
   "cell_type": "code",
   "execution_count": null,
   "id": "c0a12cc5",
   "metadata": {},
   "outputs": [],
   "source": [
    "feature_cols = ['EngineOilPressure', 'Throttle', 'FuelTemperature', 'FuelLtd', 'EngineTimeLtd']\n",
    "target_col = 'DerateInNextTwoHours'\n",
    "file_name = 'new_updated_serv_loc_removed_04_29' # Don't add .csv here, it will be added in the function\n",
    "\n",
    "train_df, test_df = prep.xy_train_test_split(feature_cols, target_col)\n",
    "prep.save_to_csv(train_df, test_df, file_name)"
   ]
  }
 ],
 "metadata": {
  "kernelspec": {
   "display_name": "base",
   "language": "python",
   "name": "python3"
  },
  "language_info": {
   "codemirror_mode": {
    "name": "ipython",
    "version": 3
   },
   "file_extension": ".py",
   "mimetype": "text/x-python",
   "name": "python",
   "nbconvert_exporter": "python",
   "pygments_lexer": "ipython3",
   "version": "3.12.4"
  }
 },
 "nbformat": 4,
 "nbformat_minor": 5
}
