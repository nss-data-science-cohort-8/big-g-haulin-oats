{
 "cells": [
  {
   "cell_type": "code",
   "execution_count": 1,
   "id": "edb0885d",
   "metadata": {},
   "outputs": [
    {
     "name": "stderr",
     "output_type": "stream",
     "text": [
      "c:\\Users\\irela\\Documents\\NSS_Projects\\big-g-haulin-oats\\data_processing\\notebooks_for_preprocessing\\data_preprocessing.py:6: DtypeWarning: Columns (15) have mixed types. Specify dtype option on import or set low_memory=False.\n",
      "  faults = pd.read_csv(\"../../data/J1939Faults.csv\")\n",
      "c:\\Users\\irela\\Documents\\NSS_Projects\\big-g-haulin-oats\\data_processing\\notebooks_for_preprocessing\\data_preprocessing.py:21: FutureWarning: SeriesGroupBy.fillna is deprecated and will be removed in a future version. Use obj.ffill() or obj.bfill() for forward or backward filling instead. If you want to fill with a single value, use Series.fillna instead\n",
      "  faults_and_diagnostics['NextDerateTime'] = faults_and_diagnostics.groupby('EquipmentID')['NextDerateTime'].fillna(method='bfill')\n",
      "c:\\Users\\irela\\Documents\\NSS_Projects\\big-g-haulin-oats\\data_processing\\notebooks_for_preprocessing\\data_preprocessing.py:21: FutureWarning: Series.fillna with 'method' is deprecated and will raise in a future version. Use obj.ffill() or obj.bfill() instead.\n",
      "  faults_and_diagnostics['NextDerateTime'] = faults_and_diagnostics.groupby('EquipmentID')['NextDerateTime'].fillna(method='bfill')\n",
      "c:\\Users\\irela\\anaconda3\\Lib\\site-packages\\pandas\\core\\dtypes\\astype.py:133: RuntimeWarning: overflow encountered in cast\n",
      "  return arr.astype(dtype, copy=True)\n",
      "c:\\Users\\irela\\anaconda3\\Lib\\site-packages\\pandas\\core\\dtypes\\astype.py:133: RuntimeWarning: overflow encountered in cast\n",
      "  return arr.astype(dtype, copy=True)\n"
     ]
    }
   ],
   "source": [
    "# import statements\n",
    "import pandas as pd\n",
    "import data_preprocessing as prep\n",
    "import ipynbname"
   ]
  },
  {
   "cell_type": "code",
   "execution_count": 2,
   "id": "c0a12cc5",
   "metadata": {},
   "outputs": [
    {
     "name": "stdout",
     "output_type": "stream",
     "text": [
      "Train and test dataframes saved to ../preprocessed_data/random_assortment_of_features_04_28_train.csv and ../preprocessed_data/random_assortment_of_features_04_28_test.csv.\n"
     ]
    }
   ],
   "source": [
    "feature_cols = ['EngineOilPressure', 'Throttle', 'FuelTemperature', 'FuelLtd', 'EngineTimeLtd']\n",
    "target_col = 'DerateInNextTwoHours'\n",
    "file_name = 'random_assortment_of_features_04_28' # Don't add .csv here, it will be added in the function\n",
    "\n",
    "train_df, test_df = prep.xy_train_test_split(feature_cols, target_col)\n",
    "prep.save_to_csv(train_df, test_df, file_name)"
   ]
  }
 ],
 "metadata": {
  "kernelspec": {
   "display_name": "base",
   "language": "python",
   "name": "python3"
  },
  "language_info": {
   "codemirror_mode": {
    "name": "ipython",
    "version": 3
   },
   "file_extension": ".py",
   "mimetype": "text/x-python",
   "name": "python",
   "nbconvert_exporter": "python",
   "pygments_lexer": "ipython3",
   "version": "3.12.4"
  }
 },
 "nbformat": 4,
 "nbformat_minor": 5
}
