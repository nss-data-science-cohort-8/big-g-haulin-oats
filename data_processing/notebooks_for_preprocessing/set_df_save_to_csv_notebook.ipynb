{
 "cells": [
  {
   "cell_type": "code",
   "execution_count": 1,
   "id": "edb0885d",
   "metadata": {},
   "outputs": [
    {
     "name": "stderr",
     "output_type": "stream",
     "text": [
      "c:\\Users\\irela\\Documents\\NSS_Projects\\big-g-haulin-oats\\data_processing\\notebooks_for_preprocessing\\data_preprocessing.py:6: DtypeWarning: Columns (15) have mixed types. Specify dtype option on import or set low_memory=False.\n",
      "  faults = pd.read_csv(\"../../data/J1939Faults.csv\")\n",
      "c:\\Users\\irela\\anaconda3\\Lib\\site-packages\\pandas\\core\\dtypes\\astype.py:135: RuntimeWarning: overflow encountered in cast\n",
      "  return arr.astype(dtype, copy=copy)\n",
      "c:\\Users\\irela\\anaconda3\\Lib\\site-packages\\pandas\\core\\dtypes\\astype.py:135: RuntimeWarning: overflow encountered in cast\n",
      "  return arr.astype(dtype, copy=copy)\n",
      "c:\\Users\\irela\\Documents\\NSS_Projects\\big-g-haulin-oats\\data_processing\\notebooks_for_preprocessing\\data_preprocessing.py:15: SettingWithCopyWarning: \n",
      "A value is trying to be set on a copy of a slice from a DataFrame.\n",
      "Try using .loc[row_indexer,col_indexer] = value instead\n",
      "\n",
      "See the caveats in the documentation: https://pandas.pydata.org/pandas-docs/stable/user_guide/indexing.html#returning-a-view-versus-a-copy\n",
      "  df['FullDerate'] = (df['spn'] == 5246).astype('int8')\n",
      "c:\\Users\\irela\\Documents\\NSS_Projects\\big-g-haulin-oats\\data_processing\\notebooks_for_preprocessing\\data_preprocessing.py:15: SettingWithCopyWarning: \n",
      "A value is trying to be set on a copy of a slice from a DataFrame.\n",
      "Try using .loc[row_indexer,col_indexer] = value instead\n",
      "\n",
      "See the caveats in the documentation: https://pandas.pydata.org/pandas-docs/stable/user_guide/indexing.html#returning-a-view-versus-a-copy\n",
      "  df['FullDerate'] = (df['spn'] == 5246).astype('int8')\n"
     ]
    }
   ],
   "source": [
    "# import statements\n",
    "import pandas as pd\n",
    "import data_preprocessing as prep\n",
    "import ipynbname"
   ]
  },
  {
   "cell_type": "code",
   "execution_count": 3,
   "id": "c0a12cc5",
   "metadata": {},
   "outputs": [
    {
     "name": "stdout",
     "output_type": "stream",
     "text": [
      "Train and test dataframes saved to ../preprocessed_data/simple_test_04_29_train.csv and ../preprocessed_data/simple_test_04_29_test.csv.\n"
     ]
    }
   ],
   "source": [
    "feature_cols = ['EngineOilPressure', 'Throttle', 'FuelTemperature', 'FuelLtd', 'EngineTimeLtd']\n",
    "target_col = 'DerateInNextTwoHours'\n",
    "file_name = 'simple_test_04_29' # Don't add .csv here, it will be added in the function\n",
    "\n",
    "train_df, test_df = prep.xy_train_test_split(feature_cols, target_col)\n",
    "prep.save_to_csv(train_df, test_df, file_name)"
   ]
  }
 ],
 "metadata": {
  "kernelspec": {
   "display_name": "base",
   "language": "python",
   "name": "python3"
  },
  "language_info": {
   "codemirror_mode": {
    "name": "ipython",
    "version": 3
   },
   "file_extension": ".py",
   "mimetype": "text/x-python",
   "name": "python",
   "nbconvert_exporter": "python",
   "pygments_lexer": "ipython3",
   "version": "3.12.4"
  }
 },
 "nbformat": 4,
 "nbformat_minor": 5
}
