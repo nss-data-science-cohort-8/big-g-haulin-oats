{
 "cells": [
  {
   "cell_type": "code",
   "execution_count": 7,
   "id": "edb0885d",
   "metadata": {},
   "outputs": [],
   "source": [
    "#import statements\n",
    "import pandas as pd\n",
    "import data_preprocessing as prep\n",
    "import ipynbname"
   ]
  },
  {
   "cell_type": "code",
   "execution_count": 4,
   "id": "dbd5845e",
   "metadata": {},
   "outputs": [
    {
     "name": "stdout",
     "output_type": "stream",
     "text": [
      "<class 'pandas.core.frame.DataFrame'>\n",
      "Index: 1058069 entries, 33355 to 4999\n",
      "Data columns (total 48 columns):\n",
      " #   Column                     Non-Null Count    Dtype         \n",
      "---  ------                     --------------    -----         \n",
      " 0   RecordID                   1058069 non-null  int64         \n",
      " 1   ESS_Id                     1058069 non-null  int64         \n",
      " 2   EventTimeStamp             1058069 non-null  datetime64[ns]\n",
      " 3   eventDescription           1058069 non-null  object        \n",
      " 4   actionDescription          0 non-null        float64       \n",
      " 5   ecuSoftwareVersion         831493 non-null   object        \n",
      " 6   ecuSerialNumber            787468 non-null   object        \n",
      " 7   ecuModel                   1002466 non-null  object        \n",
      " 8   ecuMake                    1002466 non-null  object        \n",
      " 9   ecuSource                  1058069 non-null  int64         \n",
      " 10  spn                        1058069 non-null  int64         \n",
      " 11  fmi                        1058069 non-null  int64         \n",
      " 12  active                     1058069 non-null  bool          \n",
      " 13  activeTransitionCount      1058069 non-null  int64         \n",
      " 14  faultValue                 0 non-null        float64       \n",
      " 15  EquipmentID                1058069 non-null  object        \n",
      " 16  MCTNumber                  1058069 non-null  int64         \n",
      " 17  Latitude                   1058069 non-null  float64       \n",
      " 18  Longitude                  1058069 non-null  float64       \n",
      " 19  LocationTimeStamp          1058069 non-null  object        \n",
      " 20  AcceleratorPedal           467909 non-null   float16       \n",
      " 21  BarometricPressure         521508 non-null   float16       \n",
      " 22  CruiseControlActive        1058069 non-null  bool          \n",
      " 23  CruiseControlSetSpeed      511788 non-null   float16       \n",
      " 24  DistanceLtd                521453 non-null   float16       \n",
      " 25  EngineCoolantTemperature   521574 non-null   float16       \n",
      " 26  EngineLoad                 521085 non-null   float16       \n",
      " 27  EngineOilPressure          521709 non-null   float16       \n",
      " 28  EngineOilTemperature       519668 non-null   float16       \n",
      " 29  EngineRpm                  522179 non-null   float16       \n",
      " 30  EngineTimeLtd              516855 non-null   float16       \n",
      " 31  FuelLevel                  439887 non-null   float16       \n",
      " 32  FuelLtd                    520532 non-null   float32       \n",
      " 33  FuelRate                   520771 non-null   float16       \n",
      " 34  FuelTemperature            272907 non-null   float16       \n",
      " 35  IgnStatus                  1058069 non-null  bool          \n",
      " 36  IntakeManifoldTemperature  521729 non-null   float16       \n",
      " 37  LampStatus                 1058069 non-null  object        \n",
      " 38  ParkingBrake               1058069 non-null  bool          \n",
      " 39  ServiceDistance            215 non-null      object        \n",
      " 40  Speed                      519609 non-null   float16       \n",
      " 41  SwitchedBatteryVoltage     109174 non-null   float16       \n",
      " 42  Throttle                   356388 non-null   float16       \n",
      " 43  TurboBoostPressure         519069 non-null   float16       \n",
      " 44  FullDerate                 1058069 non-null  int64         \n",
      " 45  NextDerateTime             253143 non-null   datetime64[ns]\n",
      " 46  HoursUntilNextDerate       253143 non-null   float64       \n",
      " 47  DerateInNextTwoHours       1058069 non-null  int32         \n",
      "dtypes: bool(4), datetime64[ns](2), float16(18), float32(1), float64(5), int32(1), int64(8), object(9)\n",
      "memory usage: 250.2+ MB\n"
     ]
    }
   ],
   "source": [
    "prep.faults_and_diagnostics_train.info()"
   ]
  },
  {
   "cell_type": "code",
   "execution_count": 6,
   "id": "c0a12cc5",
   "metadata": {},
   "outputs": [],
   "source": [
    "feature_cols = ['EngineOilPressure']\n",
    "target_col = 'DerateInNextTwoHours'\n",
    "\n",
    "X_train = prep.faults_and_diagnostics_train[feature_cols]\n",
    "X_test = prep.faults_and_diagnostics_test[target_col]\n",
    "y_train = prep.faults_and_diagnostics_train[feature_cols]\n",
    "y_test = prep.faults_and_diagnostics_test[target_col]\n",
    "\n",
    "# create train and test dataframes\n",
    "train_df = pd.concat([y_train, X_train], axis=1).rename(columns={target_col: 'target'})\n",
    "test_df = pd.concat([y_test, X_test], axis=1).rename(columns={target_col: 'target'})"
   ]
  },
  {
   "cell_type": "code",
   "execution_count": null,
   "id": "66ffea80",
   "metadata": {},
   "outputs": [],
   "source": [
    "notebook_name = ipynbname.name()\n",
    "# save the train and test dataframes to CSV files\n",
    "train_df.to_csv(f'{notebook_name}_train.csv', index=False)\n",
    "test_df.to_csv(f'{notebook_name}_test.csv', index=False)"
   ]
  }
 ],
 "metadata": {
  "kernelspec": {
   "display_name": "base",
   "language": "python",
   "name": "python3"
  },
  "language_info": {
   "codemirror_mode": {
    "name": "ipython",
    "version": 3
   },
   "file_extension": ".py",
   "mimetype": "text/x-python",
   "name": "python",
   "nbconvert_exporter": "python",
   "pygments_lexer": "ipython3",
   "version": "3.12.4"
  }
 },
 "nbformat": 4,
 "nbformat_minor": 5
}
