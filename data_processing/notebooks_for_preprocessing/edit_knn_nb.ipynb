{
 "cells": [
  {
   "cell_type": "code",
   "execution_count": 1,
   "id": "f246cc94",
   "metadata": {},
   "outputs": [],
   "source": [
    "import pandas as pd\n",
    "import numpy as np"
   ]
  },
  {
   "cell_type": "code",
   "execution_count": null,
   "id": "f538c24a",
   "metadata": {},
   "outputs": [
    {
     "name": "stderr",
     "output_type": "stream",
     "text": [
      "C:\\Users\\irela\\AppData\\Local\\Temp\\ipykernel_14616\\3967878826.py:1: DtypeWarning: Columns (2,16) have mixed types. Specify dtype option on import or set low_memory=False.\n",
      "  train = pd.read_csv('../preprocessed_data/kneighbors_05_06_2025_train.csv')\n"
     ]
    },
    {
     "data": {
      "application/vnd.microsoft.datawrangler.viewer.v0+json": {
       "columns": [
        {
         "name": "index",
         "rawType": "int64",
         "type": "integer"
        },
        {
         "name": "EventTimeStamp",
         "rawType": "object",
         "type": "string"
        },
        {
         "name": "spn",
         "rawType": "int64",
         "type": "integer"
        },
        {
         "name": "EquipmentID",
         "rawType": "object",
         "type": "unknown"
        },
        {
         "name": "BarometricPressure",
         "rawType": "float64",
         "type": "float"
        },
        {
         "name": "DistanceLtd",
         "rawType": "float64",
         "type": "float"
        },
        {
         "name": "EngineCoolantTemperature",
         "rawType": "float64",
         "type": "float"
        },
        {
         "name": "EngineLoad",
         "rawType": "float64",
         "type": "float"
        },
        {
         "name": "EngineOilPressure",
         "rawType": "float64",
         "type": "float"
        },
        {
         "name": "EngineOilTemperature",
         "rawType": "float64",
         "type": "float"
        },
        {
         "name": "EngineRpm",
         "rawType": "float64",
         "type": "float"
        },
        {
         "name": "FuelLtd",
         "rawType": "float64",
         "type": "float"
        },
        {
         "name": "FuelRate",
         "rawType": "float64",
         "type": "float"
        },
        {
         "name": "IgnStatus",
         "rawType": "object",
         "type": "unknown"
        },
        {
         "name": "IntakeManifoldTemperature",
         "rawType": "float64",
         "type": "float"
        },
        {
         "name": "LampStatus",
         "rawType": "float64",
         "type": "float"
        },
        {
         "name": "FullDerate",
         "rawType": "int64",
         "type": "integer"
        },
        {
         "name": "NextDerateTime",
         "rawType": "object",
         "type": "unknown"
        },
        {
         "name": "HoursUntilNextDerate",
         "rawType": "float64",
         "type": "float"
        },
        {
         "name": "DerateInNextTwoHours",
         "rawType": "int64",
         "type": "integer"
        },
        {
         "name": "DerateInNextTwentyFourHours",
         "rawType": "int64",
         "type": "integer"
        },
        {
         "name": "fmi_0",
         "rawType": "float64",
         "type": "float"
        },
        {
         "name": "fmi_1",
         "rawType": "float64",
         "type": "float"
        },
        {
         "name": "fmi_10",
         "rawType": "float64",
         "type": "float"
        },
        {
         "name": "fmi_11",
         "rawType": "float64",
         "type": "float"
        },
        {
         "name": "fmi_12",
         "rawType": "float64",
         "type": "float"
        },
        {
         "name": "fmi_13",
         "rawType": "float64",
         "type": "float"
        },
        {
         "name": "fmi_14",
         "rawType": "float64",
         "type": "float"
        },
        {
         "name": "fmi_15",
         "rawType": "float64",
         "type": "float"
        },
        {
         "name": "fmi_16",
         "rawType": "float64",
         "type": "float"
        },
        {
         "name": "fmi_17",
         "rawType": "float64",
         "type": "float"
        },
        {
         "name": "fmi_18",
         "rawType": "float64",
         "type": "float"
        },
        {
         "name": "fmi_19",
         "rawType": "float64",
         "type": "float"
        },
        {
         "name": "fmi_2",
         "rawType": "float64",
         "type": "float"
        },
        {
         "name": "fmi_20",
         "rawType": "float64",
         "type": "float"
        },
        {
         "name": "fmi_21",
         "rawType": "float64",
         "type": "float"
        },
        {
         "name": "fmi_22",
         "rawType": "float64",
         "type": "float"
        },
        {
         "name": "fmi_23",
         "rawType": "float64",
         "type": "float"
        },
        {
         "name": "fmi_29",
         "rawType": "float64",
         "type": "float"
        },
        {
         "name": "fmi_3",
         "rawType": "float64",
         "type": "float"
        },
        {
         "name": "fmi_31",
         "rawType": "float64",
         "type": "float"
        },
        {
         "name": "fmi_4",
         "rawType": "float64",
         "type": "float"
        },
        {
         "name": "fmi_5",
         "rawType": "float64",
         "type": "float"
        },
        {
         "name": "fmi_6",
         "rawType": "float64",
         "type": "float"
        },
        {
         "name": "fmi_7",
         "rawType": "float64",
         "type": "float"
        },
        {
         "name": "fmi_8",
         "rawType": "float64",
         "type": "float"
        },
        {
         "name": "fmi_9",
         "rawType": "float64",
         "type": "float"
        }
       ],
       "conversionMethod": "pd.DataFrame",
       "ref": "62c31dd0-3134-4034-8472-fc8c4ff75679",
       "rows": [
        [
         "0",
         "2018-07-20 09:31:33",
         "1231",
         "105406655",
         "-0.0455927510060582",
         "-1.9150797298434885",
         "0.3615165391509574",
         "-0.6492217126910562",
         "0.5339155267943544",
         "0.2675945149157907",
         "0.3839878372858991",
         "-1.582292714294631",
         "-0.5119930316024421",
         "True",
         "1.2336145684587825",
         "-0.3993414143999321",
         "0",
         null,
         null,
         "0",
         "0",
         "0.0",
         "0.0",
         "0.0",
         "0.0",
         "0.0",
         "0.0",
         "0.0",
         "0.0",
         "1.0",
         "0.0",
         "0.0",
         "0.0",
         "0.0",
         "0.0",
         "0.0",
         "0.0",
         "0.0",
         "0.0",
         "0.0",
         "0.0",
         "0.0",
         "0.0",
         "0.0",
         "0.0",
         "0.0",
         "0.0"
        ],
        [
         "1",
         "2018-07-20 09:42:30",
         "1231",
         "105406655",
         "-7.142935660482491",
         "-0.0610297391176108",
         "-0.8649155881507292",
         "-0.021607936383491",
         "0.4206755667995939",
         "0.2242043056029632",
         "-0.439622236176392",
         "0.7163018684528539",
         "-0.515195120434553",
         null,
         "0.8948802919459847",
         "-0.3993414143999321",
         "0",
         null,
         null,
         "0",
         "0",
         "0.0",
         "0.0",
         "0.0",
         "0.0",
         "0.0",
         "0.0",
         "0.0",
         "0.0",
         "1.0",
         "0.0",
         "0.0",
         "0.0",
         "0.0",
         "0.0",
         "0.0",
         "0.0",
         "0.0",
         "0.0",
         "0.0",
         "0.0",
         "0.0",
         "0.0",
         "0.0",
         "0.0",
         "0.0",
         "0.0"
        ],
        [
         "2",
         "2016-01-31 07:12:25",
         "629",
         "105301976",
         "0.1123960466363976",
         "-2.2113223755026508",
         "-0.1421966559908068",
         "-0.5838452776590182",
         "-2.955934149407812",
         "-0.1536814211375218",
         "-2.1366582608358757",
         "-0.6993893162753415",
         "-0.7979021073603321",
         "True",
         "0.2738674516725219",
         "-0.2775668840238921",
         "0",
         null,
         null,
         "0",
         "0",
         "0.0",
         "0.0",
         "0.0",
         "0.0",
         "1.0",
         "0.0",
         "0.0",
         "0.0",
         "0.0",
         "0.0",
         "0.0",
         "0.0",
         "0.0",
         "0.0",
         "0.0",
         "0.0",
         "0.0",
         "0.0",
         "0.0",
         "0.0",
         "0.0",
         "0.0",
         "0.0",
         "0.0",
         "0.0",
         "0.0"
        ],
        [
         "3",
         "2018-01-26 18:58:08",
         "37",
         "105338729",
         "0.3189967820149919",
         "-2.546049090957315",
         "0.0330079336237196",
         "-0.5184688426269801",
         "-1.1132111640385265",
         "0.2145016415896453",
         "-0.9624712800182316",
         "-2.083563384613853",
         "-0.6858257254201556",
         "True",
         "0.5279181590571206",
         "5.537166941432016",
         "0",
         null,
         null,
         "0",
         "0",
         "0.0",
         "0.0",
         "0.0",
         "0.0",
         "0.0",
         "0.0",
         "0.0",
         "0.0",
         "0.0",
         "0.0",
         "1.0",
         "0.0",
         "0.0",
         "0.0",
         "0.0",
         "0.0",
         "0.0",
         "0.0",
         "0.0",
         "0.0",
         "0.0",
         "0.0",
         "0.0",
         "0.0",
         "0.0",
         "0.0"
        ],
        [
         "4",
         "2018-01-26 18:59:36",
         "37",
         "105338729",
         "0.1610079843725374",
         "-2.1559766862400025",
         "0.1534610889837067",
         "0.109144933680585",
         "-0.248469651351264",
         "-0.7430310303606777",
         "-0.8428136660832131",
         "-1.7407367083362533",
         "-0.0216015659820966",
         null,
         "-0.4600568141052069",
         "5.537166941432016",
         "0",
         null,
         null,
         "0",
         "0",
         "0.0",
         "0.0",
         "0.0",
         "0.0",
         "0.0",
         "0.0",
         "0.0",
         "0.0",
         "0.0",
         "0.0",
         "1.0",
         "0.0",
         "0.0",
         "0.0",
         "0.0",
         "0.0",
         "0.0",
         "0.0",
         "0.0",
         "0.0",
         "0.0",
         "0.0",
         "0.0",
         "0.0",
         "0.0",
         "0.0"
        ]
       ],
       "shape": {
        "columns": 46,
        "rows": 5
       }
      },
      "text/html": [
       "<div>\n",
       "<style scoped>\n",
       "    .dataframe tbody tr th:only-of-type {\n",
       "        vertical-align: middle;\n",
       "    }\n",
       "\n",
       "    .dataframe tbody tr th {\n",
       "        vertical-align: top;\n",
       "    }\n",
       "\n",
       "    .dataframe thead th {\n",
       "        text-align: right;\n",
       "    }\n",
       "</style>\n",
       "<table border=\"1\" class=\"dataframe\">\n",
       "  <thead>\n",
       "    <tr style=\"text-align: right;\">\n",
       "      <th></th>\n",
       "      <th>EventTimeStamp</th>\n",
       "      <th>spn</th>\n",
       "      <th>EquipmentID</th>\n",
       "      <th>BarometricPressure</th>\n",
       "      <th>DistanceLtd</th>\n",
       "      <th>EngineCoolantTemperature</th>\n",
       "      <th>EngineLoad</th>\n",
       "      <th>EngineOilPressure</th>\n",
       "      <th>EngineOilTemperature</th>\n",
       "      <th>EngineRpm</th>\n",
       "      <th>...</th>\n",
       "      <th>fmi_23</th>\n",
       "      <th>fmi_29</th>\n",
       "      <th>fmi_3</th>\n",
       "      <th>fmi_31</th>\n",
       "      <th>fmi_4</th>\n",
       "      <th>fmi_5</th>\n",
       "      <th>fmi_6</th>\n",
       "      <th>fmi_7</th>\n",
       "      <th>fmi_8</th>\n",
       "      <th>fmi_9</th>\n",
       "    </tr>\n",
       "  </thead>\n",
       "  <tbody>\n",
       "    <tr>\n",
       "      <th>0</th>\n",
       "      <td>2018-07-20 09:31:33</td>\n",
       "      <td>1231</td>\n",
       "      <td>105406655</td>\n",
       "      <td>-0.045593</td>\n",
       "      <td>-1.915080</td>\n",
       "      <td>0.361517</td>\n",
       "      <td>-0.649222</td>\n",
       "      <td>0.533916</td>\n",
       "      <td>0.267595</td>\n",
       "      <td>0.383988</td>\n",
       "      <td>...</td>\n",
       "      <td>0.0</td>\n",
       "      <td>0.0</td>\n",
       "      <td>0.0</td>\n",
       "      <td>0.0</td>\n",
       "      <td>0.0</td>\n",
       "      <td>0.0</td>\n",
       "      <td>0.0</td>\n",
       "      <td>0.0</td>\n",
       "      <td>0.0</td>\n",
       "      <td>0.0</td>\n",
       "    </tr>\n",
       "    <tr>\n",
       "      <th>1</th>\n",
       "      <td>2018-07-20 09:42:30</td>\n",
       "      <td>1231</td>\n",
       "      <td>105406655</td>\n",
       "      <td>-7.142936</td>\n",
       "      <td>-0.061030</td>\n",
       "      <td>-0.864916</td>\n",
       "      <td>-0.021608</td>\n",
       "      <td>0.420676</td>\n",
       "      <td>0.224204</td>\n",
       "      <td>-0.439622</td>\n",
       "      <td>...</td>\n",
       "      <td>0.0</td>\n",
       "      <td>0.0</td>\n",
       "      <td>0.0</td>\n",
       "      <td>0.0</td>\n",
       "      <td>0.0</td>\n",
       "      <td>0.0</td>\n",
       "      <td>0.0</td>\n",
       "      <td>0.0</td>\n",
       "      <td>0.0</td>\n",
       "      <td>0.0</td>\n",
       "    </tr>\n",
       "    <tr>\n",
       "      <th>2</th>\n",
       "      <td>2016-01-31 07:12:25</td>\n",
       "      <td>629</td>\n",
       "      <td>105301976</td>\n",
       "      <td>0.112396</td>\n",
       "      <td>-2.211322</td>\n",
       "      <td>-0.142197</td>\n",
       "      <td>-0.583845</td>\n",
       "      <td>-2.955934</td>\n",
       "      <td>-0.153681</td>\n",
       "      <td>-2.136658</td>\n",
       "      <td>...</td>\n",
       "      <td>0.0</td>\n",
       "      <td>0.0</td>\n",
       "      <td>0.0</td>\n",
       "      <td>0.0</td>\n",
       "      <td>0.0</td>\n",
       "      <td>0.0</td>\n",
       "      <td>0.0</td>\n",
       "      <td>0.0</td>\n",
       "      <td>0.0</td>\n",
       "      <td>0.0</td>\n",
       "    </tr>\n",
       "    <tr>\n",
       "      <th>3</th>\n",
       "      <td>2018-01-26 18:58:08</td>\n",
       "      <td>37</td>\n",
       "      <td>105338729</td>\n",
       "      <td>0.318997</td>\n",
       "      <td>-2.546049</td>\n",
       "      <td>0.033008</td>\n",
       "      <td>-0.518469</td>\n",
       "      <td>-1.113211</td>\n",
       "      <td>0.214502</td>\n",
       "      <td>-0.962471</td>\n",
       "      <td>...</td>\n",
       "      <td>0.0</td>\n",
       "      <td>0.0</td>\n",
       "      <td>0.0</td>\n",
       "      <td>0.0</td>\n",
       "      <td>0.0</td>\n",
       "      <td>0.0</td>\n",
       "      <td>0.0</td>\n",
       "      <td>0.0</td>\n",
       "      <td>0.0</td>\n",
       "      <td>0.0</td>\n",
       "    </tr>\n",
       "    <tr>\n",
       "      <th>4</th>\n",
       "      <td>2018-01-26 18:59:36</td>\n",
       "      <td>37</td>\n",
       "      <td>105338729</td>\n",
       "      <td>0.161008</td>\n",
       "      <td>-2.155977</td>\n",
       "      <td>0.153461</td>\n",
       "      <td>0.109145</td>\n",
       "      <td>-0.248470</td>\n",
       "      <td>-0.743031</td>\n",
       "      <td>-0.842814</td>\n",
       "      <td>...</td>\n",
       "      <td>0.0</td>\n",
       "      <td>0.0</td>\n",
       "      <td>0.0</td>\n",
       "      <td>0.0</td>\n",
       "      <td>0.0</td>\n",
       "      <td>0.0</td>\n",
       "      <td>0.0</td>\n",
       "      <td>0.0</td>\n",
       "      <td>0.0</td>\n",
       "      <td>0.0</td>\n",
       "    </tr>\n",
       "  </tbody>\n",
       "</table>\n",
       "<p>5 rows × 46 columns</p>\n",
       "</div>"
      ],
      "text/plain": [
       "        EventTimeStamp   spn EquipmentID  BarometricPressure  DistanceLtd  \\\n",
       "0  2018-07-20 09:31:33  1231   105406655           -0.045593    -1.915080   \n",
       "1  2018-07-20 09:42:30  1231   105406655           -7.142936    -0.061030   \n",
       "2  2016-01-31 07:12:25   629   105301976            0.112396    -2.211322   \n",
       "3  2018-01-26 18:58:08    37   105338729            0.318997    -2.546049   \n",
       "4  2018-01-26 18:59:36    37   105338729            0.161008    -2.155977   \n",
       "\n",
       "   EngineCoolantTemperature  EngineLoad  EngineOilPressure  \\\n",
       "0                  0.361517   -0.649222           0.533916   \n",
       "1                 -0.864916   -0.021608           0.420676   \n",
       "2                 -0.142197   -0.583845          -2.955934   \n",
       "3                  0.033008   -0.518469          -1.113211   \n",
       "4                  0.153461    0.109145          -0.248470   \n",
       "\n",
       "   EngineOilTemperature  EngineRpm  ...  fmi_23  fmi_29 fmi_3  fmi_31  fmi_4  \\\n",
       "0              0.267595   0.383988  ...     0.0     0.0   0.0     0.0    0.0   \n",
       "1              0.224204  -0.439622  ...     0.0     0.0   0.0     0.0    0.0   \n",
       "2             -0.153681  -2.136658  ...     0.0     0.0   0.0     0.0    0.0   \n",
       "3              0.214502  -0.962471  ...     0.0     0.0   0.0     0.0    0.0   \n",
       "4             -0.743031  -0.842814  ...     0.0     0.0   0.0     0.0    0.0   \n",
       "\n",
       "   fmi_5 fmi_6  fmi_7  fmi_8  fmi_9  \n",
       "0    0.0   0.0    0.0    0.0    0.0  \n",
       "1    0.0   0.0    0.0    0.0    0.0  \n",
       "2    0.0   0.0    0.0    0.0    0.0  \n",
       "3    0.0   0.0    0.0    0.0    0.0  \n",
       "4    0.0   0.0    0.0    0.0    0.0  \n",
       "\n",
       "[5 rows x 46 columns]"
      ]
     },
     "execution_count": 10,
     "metadata": {},
     "output_type": "execute_result"
    }
   ],
   "source": [
    "train = pd.read_csv('../preprocessed_data/kneighbors_05_06_2025_train.csv')\n",
    "test = pd.read_csv('../preprocessed_data/kneighbors_05_06_2025_test.csv')\n",
    "\n",
    "train.head()"
   ]
  },
  {
   "cell_type": "code",
   "execution_count": 11,
   "id": "700b8ca7",
   "metadata": {},
   "outputs": [
    {
     "data": {
      "text/plain": [
       "(938258, 938258)"
      ]
     },
     "execution_count": 11,
     "metadata": {},
     "output_type": "execute_result"
    }
   ],
   "source": [
    "train[train['FullDerate'] == 1].head()\n",
    "# If Derate occured two hours before the current derate, remove the row\n",
    "\n",
    "# Convert to datetime if needed\n",
    "train['EventTimeStamp'] = pd.to_datetime(train['EventTimeStamp'])\n",
    "\n",
    "# Filter derates and sort by time\n",
    "derates = train[train['FullDerate'] == 1].sort_values('EventTimeStamp').copy()\n",
    "\n",
    "# Initialize list to keep valid derates\n",
    "kept_indices = []\n",
    "\n",
    "# Track timestamp of last kept derate\n",
    "last_kept_time = None\n",
    "\n",
    "for idx, row in derates.iterrows():\n",
    "    if last_kept_time is None or (row['EventTimeStamp'] - last_kept_time).total_seconds() > 7200:\n",
    "        kept_indices.append(idx)\n",
    "        last_kept_time = row['EventTimeStamp']\n",
    "\n",
    "# Rebuild the filtered derate DataFrame\n",
    "derates_filtered = derates.loc[kept_indices]\n",
    "\n",
    "# Combine with non-derate rows\n",
    "train_filtered = pd.concat([\n",
    "    train[train['FullDerate'] != 1],\n",
    "    derates_filtered\n",
    "]).sort_values('EventTimeStamp').reset_index(drop=True)\n",
    "\n",
    "len(train_filtered), len(train)\n"
   ]
  },
  {
   "cell_type": "code",
   "execution_count": 12,
   "id": "069274b3",
   "metadata": {},
   "outputs": [
    {
     "data": {
      "text/plain": [
       "(110596, 110596)"
      ]
     },
     "execution_count": 12,
     "metadata": {},
     "output_type": "execute_result"
    }
   ],
   "source": [
    "test[test['FullDerate'] == 1].head()\n",
    "# If Derate occured two hours before the current derate, remove the row\n",
    "\n",
    "# Convert to datetime if needed\n",
    "test['EventTimeStamp'] = pd.to_datetime(test['EventTimeStamp'])\n",
    "\n",
    "# Filter derates and sort by time\n",
    "derates = test[test['FullDerate'] == 1].sort_values('EventTimeStamp').copy()\n",
    "\n",
    "# Initialize list to keep valid derates\n",
    "kept_indices = []\n",
    "\n",
    "# Track timestamp of last kept derate\n",
    "last_kept_time = None\n",
    "\n",
    "for idx, row in derates.iterrows():\n",
    "    if last_kept_time is None or (row['EventTimeStamp'] - last_kept_time).total_seconds() > 7200:\n",
    "        kept_indices.append(idx)\n",
    "        last_kept_time = row['EventTimeStamp']\n",
    "\n",
    "# Rebuild the filtered derate DataFrame\n",
    "derates_filtered = derates.loc[kept_indices]\n",
    "\n",
    "# Combine with non-derate rows\n",
    "test_filtered = pd.concat([\n",
    "    test[test['FullDerate'] != 1],\n",
    "    derates_filtered\n",
    "]).sort_values('EventTimeStamp').reset_index(drop=True)\n",
    "\n",
    "len(test_filtered), len(test)\n"
   ]
  },
  {
   "cell_type": "code",
   "execution_count": 5,
   "id": "f733df85",
   "metadata": {},
   "outputs": [],
   "source": [
    "#train_filtered.to_csv('../preprocessed_data/filtered_attempting_to_save_knimputer_05_03_train.csv', index=False)\n",
    "#test_filtered.to_csv('../preprocessed_data/filtered_attempting_to_save_knimputer_05_03_test.csv', index=False)"
   ]
  },
  {
   "cell_type": "code",
   "execution_count": null,
   "id": "770abcdb",
   "metadata": {},
   "outputs": [
    {
     "name": "stdout",
     "output_type": "stream",
     "text": [
      "Processing target: HoursUntilNextDerate\n",
      "Saved HoursUntilNextDerate dataframes for training and testing.\n",
      "Processing target: DerateInNextTwoHours\n",
      "Saved DerateInNextTwoHours dataframes for training and testing.\n",
      "Processing target: DerateInNextTwentyFourHours\n",
      "Saved DerateInNextTwentyFourHours dataframes for training and testing.\n"
     ]
    }
   ],
   "source": [
    "target_columns = ['HoursUntilNextDerate', 'DerateInNextTwoHours', 'DerateInNextTwentyFourHours']\n",
    "y_train = train_filtered[target_columns].copy()\n",
    "y_test = test_filtered[target_columns].copy()\n",
    "y_train.head()\n",
    "\n",
    "train_filtered = train_filtered.drop(columns=['EventTimeStamp', 'EquipmentID', 'NextDerateTime', 'HoursUntilNextDerate', 'FullDerate', 'DerateInNextTwoHours', 'DerateInNextTwentyFourHours'])\n",
    "test_filtered = test_filtered.drop(columns=['EventTimeStamp', 'EquipmentID', 'NextDerateTime', 'HoursUntilNextDerate', 'FullDerate', 'DerateInNextTwoHours', 'DerateInNextTwentyFourHours'])\n",
    "\n",
    "for target in target_columns:\n",
    "    print(f\"Processing target: {target}\")\n",
    "    new_train_df = pd.concat([y_train[target], train_filtered], axis=1)\n",
    "    new_test_df = pd.concat([y_test[target], test_filtered], axis=1)\n",
    "    new_train_df.to_csv(f'../preprocessed_data/{target}_kneighbors_05_06_train.csv', index=False)\n",
    "    new_test_df.to_csv(f'../preprocessed_data/{target}_kneighbors_05_06_test.csv', index=False)\n",
    "    new_train_df = pd.DataFrame()\n",
    "    new_test_df = pd.DataFrame()\n",
    "    print(f\"Saved {target} dataframes for training and testing.\")"
   ]
  },
  {
   "cell_type": "code",
   "execution_count": 7,
   "id": "cfce1f58",
   "metadata": {},
   "outputs": [
    {
     "data": {
      "application/vnd.microsoft.datawrangler.viewer.v0+json": {
       "columns": [
        {
         "name": "index",
         "rawType": "int64",
         "type": "integer"
        }
       ],
       "conversionMethod": "pd.DataFrame",
       "ref": "5ec59a26-d1e9-4132-9bd1-8c15d64bccfa",
       "rows": [],
       "shape": {
        "columns": 0,
        "rows": 0
       }
      },
      "text/html": [
       "<div>\n",
       "<style scoped>\n",
       "    .dataframe tbody tr th:only-of-type {\n",
       "        vertical-align: middle;\n",
       "    }\n",
       "\n",
       "    .dataframe tbody tr th {\n",
       "        vertical-align: top;\n",
       "    }\n",
       "\n",
       "    .dataframe thead th {\n",
       "        text-align: right;\n",
       "    }\n",
       "</style>\n",
       "<table border=\"1\" class=\"dataframe\">\n",
       "  <thead>\n",
       "    <tr style=\"text-align: right;\">\n",
       "      <th></th>\n",
       "    </tr>\n",
       "  </thead>\n",
       "  <tbody>\n",
       "  </tbody>\n",
       "</table>\n",
       "</div>"
      ],
      "text/plain": [
       "Empty DataFrame\n",
       "Columns: []\n",
       "Index: []"
      ]
     },
     "execution_count": 7,
     "metadata": {},
     "output_type": "execute_result"
    }
   ],
   "source": [
    "new_train_df.head()"
   ]
  },
  {
   "cell_type": "code",
   "execution_count": 8,
   "id": "487c4785",
   "metadata": {},
   "outputs": [
    {
     "data": {
      "application/vnd.microsoft.datawrangler.viewer.v0+json": {
       "columns": [
        {
         "name": "index",
         "rawType": "int64",
         "type": "integer"
        },
        {
         "name": "spn",
         "rawType": "int64",
         "type": "integer"
        },
        {
         "name": "BarometricPressure",
         "rawType": "float64",
         "type": "float"
        },
        {
         "name": "DistanceLtd",
         "rawType": "float64",
         "type": "float"
        },
        {
         "name": "EngineCoolantTemperature",
         "rawType": "float64",
         "type": "float"
        },
        {
         "name": "EngineLoad",
         "rawType": "float64",
         "type": "float"
        },
        {
         "name": "EngineOilPressure",
         "rawType": "float64",
         "type": "float"
        },
        {
         "name": "EngineOilTemperature",
         "rawType": "float64",
         "type": "float"
        },
        {
         "name": "EngineRpm",
         "rawType": "float64",
         "type": "float"
        },
        {
         "name": "FuelLtd",
         "rawType": "float64",
         "type": "float"
        },
        {
         "name": "FuelRate",
         "rawType": "float64",
         "type": "float"
        },
        {
         "name": "IgnStatus",
         "rawType": "object",
         "type": "unknown"
        },
        {
         "name": "IntakeManifoldTemperature",
         "rawType": "float64",
         "type": "float"
        },
        {
         "name": "LampStatus",
         "rawType": "float64",
         "type": "float"
        },
        {
         "name": "fmi_0",
         "rawType": "float64",
         "type": "float"
        },
        {
         "name": "fmi_1",
         "rawType": "float64",
         "type": "float"
        },
        {
         "name": "fmi_10",
         "rawType": "float64",
         "type": "float"
        },
        {
         "name": "fmi_11",
         "rawType": "float64",
         "type": "float"
        },
        {
         "name": "fmi_12",
         "rawType": "float64",
         "type": "float"
        },
        {
         "name": "fmi_13",
         "rawType": "float64",
         "type": "float"
        },
        {
         "name": "fmi_14",
         "rawType": "float64",
         "type": "float"
        },
        {
         "name": "fmi_15",
         "rawType": "float64",
         "type": "float"
        },
        {
         "name": "fmi_16",
         "rawType": "float64",
         "type": "float"
        },
        {
         "name": "fmi_17",
         "rawType": "float64",
         "type": "float"
        },
        {
         "name": "fmi_18",
         "rawType": "float64",
         "type": "float"
        },
        {
         "name": "fmi_19",
         "rawType": "float64",
         "type": "float"
        },
        {
         "name": "fmi_2",
         "rawType": "float64",
         "type": "float"
        },
        {
         "name": "fmi_20",
         "rawType": "float64",
         "type": "float"
        },
        {
         "name": "fmi_21",
         "rawType": "float64",
         "type": "float"
        },
        {
         "name": "fmi_22",
         "rawType": "float64",
         "type": "float"
        },
        {
         "name": "fmi_23",
         "rawType": "float64",
         "type": "float"
        },
        {
         "name": "fmi_29",
         "rawType": "float64",
         "type": "float"
        },
        {
         "name": "fmi_3",
         "rawType": "float64",
         "type": "float"
        },
        {
         "name": "fmi_31",
         "rawType": "float64",
         "type": "float"
        },
        {
         "name": "fmi_4",
         "rawType": "float64",
         "type": "float"
        },
        {
         "name": "fmi_5",
         "rawType": "float64",
         "type": "float"
        },
        {
         "name": "fmi_6",
         "rawType": "float64",
         "type": "float"
        },
        {
         "name": "fmi_7",
         "rawType": "float64",
         "type": "float"
        },
        {
         "name": "fmi_8",
         "rawType": "float64",
         "type": "float"
        },
        {
         "name": "fmi_9",
         "rawType": "float64",
         "type": "float"
        }
       ],
       "conversionMethod": "pd.DataFrame",
       "ref": "186a8544-4a57-4d60-b8b1-409811469496",
       "rows": [
        [
         "0",
         "829",
         "0.1974669376746423",
         "-0.6299477932350321",
         "0.4162679734054964",
         "-0.5511570601429991",
         "-0.7014294913303063",
         "0.0579635929292955",
         "-0.9761535435658948",
         "-0.524722128513184",
         "-0.6812511767447317",
         "True",
         "0.8101967228177857",
         "-0.2775668840238921",
         "0.0",
         "0.0",
         "0.0",
         "0.0",
         "0.0",
         "0.0",
         "0.0",
         "0.0",
         "0.0",
         "0.0",
         "0.0",
         "0.0",
         "0.0",
         "0.0",
         "0.0",
         "0.0",
         "0.0",
         "0.0",
         "1.0",
         "0.0",
         "0.0",
         "0.0",
         "0.0",
         "0.0",
         "0.0",
         "0.0"
        ],
        [
         "1",
         "96",
         "0.1974669376746423",
         "-0.6299477932350321",
         "0.4162679734054964",
         "-0.5511570601429991",
         "-0.7014294913303063",
         "0.0579635929292955",
         "-0.9761535435658948",
         "-0.524722128513184",
         "-0.6812511767447317",
         "True",
         "0.8101967228177857",
         "-0.2775668840238921",
         "0.0",
         "0.0",
         "0.0",
         "0.0",
         "0.0",
         "0.0",
         "0.0",
         "0.0",
         "0.0",
         "0.0",
         "0.0",
         "0.0",
         "0.0",
         "0.0",
         "0.0",
         "0.0",
         "0.0",
         "0.0",
         "1.0",
         "0.0",
         "0.0",
         "0.0",
         "0.0",
         "0.0",
         "0.0",
         "0.0"
        ],
        [
         "2",
         "96",
         "0.1974669376746423",
         "-0.6299477932350321",
         "0.4162679734054964",
         "-0.5511570601429991",
         "-0.7014294913303063",
         "0.0579635929292955",
         "-0.9761535435658948",
         "-0.524722128513184",
         "-0.6812511767447317",
         "True",
         "0.8101967228177857",
         "-0.3993414143999321",
         "0.0",
         "0.0",
         "0.0",
         "0.0",
         "0.0",
         "0.0",
         "0.0",
         "0.0",
         "0.0",
         "0.0",
         "0.0",
         "0.0",
         "0.0",
         "0.0",
         "0.0",
         "0.0",
         "0.0",
         "0.0",
         "1.0",
         "0.0",
         "0.0",
         "0.0",
         "0.0",
         "0.0",
         "0.0",
         "0.0"
        ],
        [
         "3",
         "829",
         "0.1974669376746423",
         "-0.6299477932350321",
         "0.4162679734054964",
         "-0.5511570601429991",
         "-0.7014294913303063",
         "0.0579635929292955",
         "-0.9761535435658948",
         "-0.524722128513184",
         "-0.6812511767447317",
         "True",
         "0.8101967228177857",
         "-0.3993414143999321",
         "0.0",
         "0.0",
         "0.0",
         "0.0",
         "0.0",
         "0.0",
         "0.0",
         "0.0",
         "0.0",
         "0.0",
         "0.0",
         "0.0",
         "0.0",
         "0.0",
         "0.0",
         "0.0",
         "0.0",
         "0.0",
         "1.0",
         "0.0",
         "0.0",
         "0.0",
         "0.0",
         "0.0",
         "0.0",
         "0.0"
        ],
        [
         "4",
         "792",
         null,
         null,
         null,
         null,
         null,
         null,
         null,
         null,
         null,
         null,
         null,
         "-0.2775668840238921",
         "0.0",
         "0.0",
         "0.0",
         "0.0",
         "0.0",
         "0.0",
         "0.0",
         "0.0",
         "0.0",
         "0.0",
         "0.0",
         "0.0",
         "0.0",
         "0.0",
         "0.0",
         "0.0",
         "0.0",
         "0.0",
         "0.0",
         "0.0",
         "0.0",
         "0.0",
         "0.0",
         "1.0",
         "0.0",
         "0.0"
        ]
       ],
       "shape": {
        "columns": 39,
        "rows": 5
       }
      },
      "text/html": [
       "<div>\n",
       "<style scoped>\n",
       "    .dataframe tbody tr th:only-of-type {\n",
       "        vertical-align: middle;\n",
       "    }\n",
       "\n",
       "    .dataframe tbody tr th {\n",
       "        vertical-align: top;\n",
       "    }\n",
       "\n",
       "    .dataframe thead th {\n",
       "        text-align: right;\n",
       "    }\n",
       "</style>\n",
       "<table border=\"1\" class=\"dataframe\">\n",
       "  <thead>\n",
       "    <tr style=\"text-align: right;\">\n",
       "      <th></th>\n",
       "      <th>spn</th>\n",
       "      <th>BarometricPressure</th>\n",
       "      <th>DistanceLtd</th>\n",
       "      <th>EngineCoolantTemperature</th>\n",
       "      <th>EngineLoad</th>\n",
       "      <th>EngineOilPressure</th>\n",
       "      <th>EngineOilTemperature</th>\n",
       "      <th>EngineRpm</th>\n",
       "      <th>FuelLtd</th>\n",
       "      <th>FuelRate</th>\n",
       "      <th>...</th>\n",
       "      <th>fmi_23</th>\n",
       "      <th>fmi_29</th>\n",
       "      <th>fmi_3</th>\n",
       "      <th>fmi_31</th>\n",
       "      <th>fmi_4</th>\n",
       "      <th>fmi_5</th>\n",
       "      <th>fmi_6</th>\n",
       "      <th>fmi_7</th>\n",
       "      <th>fmi_8</th>\n",
       "      <th>fmi_9</th>\n",
       "    </tr>\n",
       "  </thead>\n",
       "  <tbody>\n",
       "    <tr>\n",
       "      <th>0</th>\n",
       "      <td>829</td>\n",
       "      <td>0.197467</td>\n",
       "      <td>-0.629948</td>\n",
       "      <td>0.416268</td>\n",
       "      <td>-0.551157</td>\n",
       "      <td>-0.701429</td>\n",
       "      <td>0.057964</td>\n",
       "      <td>-0.976154</td>\n",
       "      <td>-0.524722</td>\n",
       "      <td>-0.681251</td>\n",
       "      <td>...</td>\n",
       "      <td>0.0</td>\n",
       "      <td>0.0</td>\n",
       "      <td>1.0</td>\n",
       "      <td>0.0</td>\n",
       "      <td>0.0</td>\n",
       "      <td>0.0</td>\n",
       "      <td>0.0</td>\n",
       "      <td>0.0</td>\n",
       "      <td>0.0</td>\n",
       "      <td>0.0</td>\n",
       "    </tr>\n",
       "    <tr>\n",
       "      <th>1</th>\n",
       "      <td>96</td>\n",
       "      <td>0.197467</td>\n",
       "      <td>-0.629948</td>\n",
       "      <td>0.416268</td>\n",
       "      <td>-0.551157</td>\n",
       "      <td>-0.701429</td>\n",
       "      <td>0.057964</td>\n",
       "      <td>-0.976154</td>\n",
       "      <td>-0.524722</td>\n",
       "      <td>-0.681251</td>\n",
       "      <td>...</td>\n",
       "      <td>0.0</td>\n",
       "      <td>0.0</td>\n",
       "      <td>1.0</td>\n",
       "      <td>0.0</td>\n",
       "      <td>0.0</td>\n",
       "      <td>0.0</td>\n",
       "      <td>0.0</td>\n",
       "      <td>0.0</td>\n",
       "      <td>0.0</td>\n",
       "      <td>0.0</td>\n",
       "    </tr>\n",
       "    <tr>\n",
       "      <th>2</th>\n",
       "      <td>96</td>\n",
       "      <td>0.197467</td>\n",
       "      <td>-0.629948</td>\n",
       "      <td>0.416268</td>\n",
       "      <td>-0.551157</td>\n",
       "      <td>-0.701429</td>\n",
       "      <td>0.057964</td>\n",
       "      <td>-0.976154</td>\n",
       "      <td>-0.524722</td>\n",
       "      <td>-0.681251</td>\n",
       "      <td>...</td>\n",
       "      <td>0.0</td>\n",
       "      <td>0.0</td>\n",
       "      <td>1.0</td>\n",
       "      <td>0.0</td>\n",
       "      <td>0.0</td>\n",
       "      <td>0.0</td>\n",
       "      <td>0.0</td>\n",
       "      <td>0.0</td>\n",
       "      <td>0.0</td>\n",
       "      <td>0.0</td>\n",
       "    </tr>\n",
       "    <tr>\n",
       "      <th>3</th>\n",
       "      <td>829</td>\n",
       "      <td>0.197467</td>\n",
       "      <td>-0.629948</td>\n",
       "      <td>0.416268</td>\n",
       "      <td>-0.551157</td>\n",
       "      <td>-0.701429</td>\n",
       "      <td>0.057964</td>\n",
       "      <td>-0.976154</td>\n",
       "      <td>-0.524722</td>\n",
       "      <td>-0.681251</td>\n",
       "      <td>...</td>\n",
       "      <td>0.0</td>\n",
       "      <td>0.0</td>\n",
       "      <td>1.0</td>\n",
       "      <td>0.0</td>\n",
       "      <td>0.0</td>\n",
       "      <td>0.0</td>\n",
       "      <td>0.0</td>\n",
       "      <td>0.0</td>\n",
       "      <td>0.0</td>\n",
       "      <td>0.0</td>\n",
       "    </tr>\n",
       "    <tr>\n",
       "      <th>4</th>\n",
       "      <td>792</td>\n",
       "      <td>NaN</td>\n",
       "      <td>NaN</td>\n",
       "      <td>NaN</td>\n",
       "      <td>NaN</td>\n",
       "      <td>NaN</td>\n",
       "      <td>NaN</td>\n",
       "      <td>NaN</td>\n",
       "      <td>NaN</td>\n",
       "      <td>NaN</td>\n",
       "      <td>...</td>\n",
       "      <td>0.0</td>\n",
       "      <td>0.0</td>\n",
       "      <td>0.0</td>\n",
       "      <td>0.0</td>\n",
       "      <td>0.0</td>\n",
       "      <td>0.0</td>\n",
       "      <td>0.0</td>\n",
       "      <td>1.0</td>\n",
       "      <td>0.0</td>\n",
       "      <td>0.0</td>\n",
       "    </tr>\n",
       "  </tbody>\n",
       "</table>\n",
       "<p>5 rows × 39 columns</p>\n",
       "</div>"
      ],
      "text/plain": [
       "   spn  BarometricPressure  DistanceLtd  EngineCoolantTemperature  EngineLoad  \\\n",
       "0  829            0.197467    -0.629948                  0.416268   -0.551157   \n",
       "1   96            0.197467    -0.629948                  0.416268   -0.551157   \n",
       "2   96            0.197467    -0.629948                  0.416268   -0.551157   \n",
       "3  829            0.197467    -0.629948                  0.416268   -0.551157   \n",
       "4  792                 NaN          NaN                       NaN         NaN   \n",
       "\n",
       "   EngineOilPressure  EngineOilTemperature  EngineRpm   FuelLtd  FuelRate  \\\n",
       "0          -0.701429              0.057964  -0.976154 -0.524722 -0.681251   \n",
       "1          -0.701429              0.057964  -0.976154 -0.524722 -0.681251   \n",
       "2          -0.701429              0.057964  -0.976154 -0.524722 -0.681251   \n",
       "3          -0.701429              0.057964  -0.976154 -0.524722 -0.681251   \n",
       "4                NaN                   NaN        NaN       NaN       NaN   \n",
       "\n",
       "   ... fmi_23  fmi_29  fmi_3  fmi_31  fmi_4  fmi_5  fmi_6  fmi_7  fmi_8  fmi_9  \n",
       "0  ...    0.0     0.0    1.0     0.0    0.0    0.0    0.0    0.0    0.0    0.0  \n",
       "1  ...    0.0     0.0    1.0     0.0    0.0    0.0    0.0    0.0    0.0    0.0  \n",
       "2  ...    0.0     0.0    1.0     0.0    0.0    0.0    0.0    0.0    0.0    0.0  \n",
       "3  ...    0.0     0.0    1.0     0.0    0.0    0.0    0.0    0.0    0.0    0.0  \n",
       "4  ...    0.0     0.0    0.0     0.0    0.0    0.0    0.0    1.0    0.0    0.0  \n",
       "\n",
       "[5 rows x 39 columns]"
      ]
     },
     "execution_count": 8,
     "metadata": {},
     "output_type": "execute_result"
    }
   ],
   "source": [
    "train_filtered.head()"
   ]
  },
  {
   "cell_type": "code",
   "execution_count": 9,
   "id": "8d074e56",
   "metadata": {},
   "outputs": [],
   "source": [
    "#my_train = pd.read_csv('../preprocessed_data/model_filtered_attempting_to_save_knimputer_05_03_train.csv')\n",
    "#my_test = pd.read_csv('../preprocessed_data/model_filtered_attempting_to_save_knimputer_05_03_test.csv')\n",
    "\n",
    "#my_train.head()"
   ]
  }
 ],
 "metadata": {
  "kernelspec": {
   "display_name": "base",
   "language": "python",
   "name": "python3"
  },
  "language_info": {
   "codemirror_mode": {
    "name": "ipython",
    "version": 3
   },
   "file_extension": ".py",
   "mimetype": "text/x-python",
   "name": "python",
   "nbconvert_exporter": "python",
   "pygments_lexer": "ipython3",
   "version": "3.12.4"
  }
 },
 "nbformat": 4,
 "nbformat_minor": 5
}
